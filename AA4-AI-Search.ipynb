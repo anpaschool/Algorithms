{
 "cells": [
  {
   "cell_type": "markdown",
   "metadata": {},
   "source": [
    "# Advanced Search Algorithm"
   ]
  },
  {
   "cell_type": "markdown",
   "metadata": {},
   "source": [
    "### A* Search"
   ]
  },
  {
   "cell_type": "code",
   "execution_count": 2,
   "metadata": {},
   "outputs": [],
   "source": [
    "grid = [\n",
    "    [0, 1, 0, 0, 0, 0],\n",
    "    [0, 1, 0, 0, 0, 0],  # 0 are free path whereas 1's are obstacles\n",
    "    [0, 1, 0, 0, 0, 0],\n",
    "    [0, 1, 0, 0, 1, 0],\n",
    "    [0, 0, 0, 0, 1, 0],\n",
    "]\n",
    "\n",
    "\"\"\"\n",
    "heuristic = [[9, 8, 7, 6, 5, 4],\n",
    "             [8, 7, 6, 5, 4, 3],\n",
    "             [7, 6, 5, 4, 3, 2],\n",
    "             [6, 5, 4, 3, 2, 1],\n",
    "             [5, 4, 3, 2, 1, 0]]\"\"\"\n",
    "\n",
    "init = [0, 0]\n",
    "goal = [len(grid) - 1, len(grid[0]) - 1]  # all coordinates are given in format [y,x]\n",
    "cost = 1\n",
    "\n",
    "# the cost map which pushes the path closer to the goal\n",
    "heuristic = [[0 for row in range(len(grid[0]))] for col in range(len(grid))]\n",
    "\n",
    "\n",
    "for i in range(len(grid)):\n",
    "    for j in range(len(grid[0])):\n",
    "        heuristic[i][j] = abs(i - goal[0]) + abs(j - goal[1])\n",
    "        if grid[i][j] == 1:\n",
    "            heuristic[i][j] = 99  # added extra penalty in the heuristic map\n",
    "\n",
    "\n",
    "# the actions we can take\n",
    "delta = [[-1, 0], [0, -1], [1, 0], [0, 1]]  # go up  # go left  # go down  # go right"
   ]
  },
  {
   "cell_type": "code",
   "execution_count": 3,
   "metadata": {},
   "outputs": [],
   "source": [
    "# function to search the path\n",
    "def search(grid, init, goal, cost, heuristic):\n",
    "\n",
    "    closed = [\n",
    "        [0 for col in range(len(grid[0]))] for row in range(len(grid))\n",
    "    ]  # the referrence grid\n",
    "    \n",
    "    closed[init[0]][init[1]] = 1\n",
    "    \n",
    "    action = [\n",
    "        [0 for col in range(len(grid[0]))] for row in range(len(grid))\n",
    "    ]  # the action grid\n",
    "\n",
    "    x = init[0]\n",
    "    y = init[1]\n",
    "    g = 0\n",
    "    f = g + heuristic[init[0]][init[0]]\n",
    "    cell = [[f, g, x, y]]\n",
    "\n",
    "    found = False  # flag that is set when search is complete\n",
    "    resign = False  # flag set if we can't find expand\n",
    "\n",
    "    while not found and not resign:\n",
    "        if len(cell) == 0:\n",
    "            resign = True\n",
    "            return \"FAIL\"\n",
    "        else:\n",
    "            cell.sort()  # to choose the least costliest action so as to move closer to the goal\n",
    "            cell.reverse()\n",
    "            next = cell.pop()\n",
    "            x = next[2]\n",
    "            y = next[3]\n",
    "            g = next[1]\n",
    "            f = next[0]\n",
    "\n",
    "            if x == goal[0] and y == goal[1]:\n",
    "                found = True\n",
    "            else:\n",
    "                for i in range(len(delta)):  # to try out different valid actions\n",
    "                    x2 = x + delta[i][0]\n",
    "                    y2 = y + delta[i][1]\n",
    "                    if x2 >= 0 and x2 < len(grid) and y2 >= 0 and y2 < len(grid[0]):\n",
    "                        if closed[x2][y2] == 0 and grid[x2][y2] == 0:\n",
    "                            g2 = g + cost\n",
    "                            f2 = g2 + heuristic[x2][y2]\n",
    "                            cell.append([f2, g2, x2, y2])\n",
    "                            closed[x2][y2] = 1\n",
    "                            action[x2][y2] = i\n",
    "    invpath = []\n",
    "    x = goal[0]\n",
    "    y = goal[1]\n",
    "    invpath.append([x, y])  # we get the reverse path from here\n",
    "    while x != init[0] or y != init[1]:\n",
    "        x2 = x - delta[action[x][y]][0]\n",
    "        y2 = y - delta[action[x][y]][1]\n",
    "        x = x2\n",
    "        y = y2\n",
    "        invpath.append([x, y])\n",
    "\n",
    "    path = []\n",
    "    for i in range(len(invpath)):\n",
    "        path.append(invpath[len(invpath) - 1 - i])\n",
    "    print(\"ACTION MAP\")\n",
    "    for i in range(len(action)):\n",
    "        print(action[i])\n",
    "\n",
    "    return path"
   ]
  },
  {
   "cell_type": "code",
   "execution_count": 4,
   "metadata": {},
   "outputs": [
    {
     "name": "stdout",
     "output_type": "stream",
     "text": [
      "ACTION MAP\n",
      "[0, 0, 0, 0, 0, 0]\n",
      "[2, 0, 0, 0, 0, 0]\n",
      "[2, 0, 0, 0, 3, 3]\n",
      "[2, 0, 0, 0, 0, 2]\n",
      "[2, 3, 3, 3, 0, 2]\n",
      "[0, 0]\n",
      "[1, 0]\n",
      "[2, 0]\n",
      "[3, 0]\n",
      "[4, 0]\n",
      "[4, 1]\n",
      "[4, 2]\n",
      "[4, 3]\n",
      "[3, 3]\n",
      "[2, 3]\n",
      "[2, 4]\n",
      "[2, 5]\n",
      "[3, 5]\n",
      "[4, 5]\n"
     ]
    }
   ],
   "source": [
    "a = search(grid, init, goal, cost, heuristic)\n",
    "for i in range(len(a)):\n",
    "    print(a[i])"
   ]
  },
  {
   "cell_type": "markdown",
   "metadata": {},
   "source": [
    "### Shortest Path"
   ]
  },
  {
   "cell_type": "code",
   "execution_count": 5,
   "metadata": {},
   "outputs": [],
   "source": [
    "class Graph:\n",
    "    def __init__(self):\n",
    "        self.vertex = {}\n",
    "\n",
    "    # for printing the Graph vertexes\n",
    "    def printGraph(self):\n",
    "        for i in self.vertex.keys():\n",
    "            print(i, \" -> \", \" -> \".join([str(j) for j in self.vertex[i]]))\n",
    "\n",
    "    # for adding the edge beween two vertexes\n",
    "    def addEdge(self, fromVertex, toVertex):\n",
    "        # check if vertex is already present,\n",
    "        if fromVertex in self.vertex.keys():\n",
    "            self.vertex[fromVertex].append(toVertex)\n",
    "        else:\n",
    "            # else make a new vertex\n",
    "            self.vertex[fromVertex] = [toVertex]\n",
    "\n",
    "    def BFS(self, startVertex):\n",
    "        # Take a list for stoting already visited vertexes\n",
    "        visited = [False] * len(self.vertex)\n",
    "\n",
    "        # create a list to store all the vertexes for BFS\n",
    "        queue = []\n",
    "\n",
    "        # mark the source node as visited and enqueue it\n",
    "        visited[startVertex] = True\n",
    "        queue.append(startVertex)\n",
    "\n",
    "        while queue:\n",
    "            startVertex = queue.pop(0)\n",
    "            print(startVertex, end=\" \")\n",
    "\n",
    "            # mark all adjacent nodes as visited and print them\n",
    "            for i in self.vertex[startVertex]:\n",
    "                if visited[i] == False:\n",
    "                    queue.append(i)\n",
    "                    visited[i] = True"
   ]
  },
  {
   "cell_type": "code",
   "execution_count": 6,
   "metadata": {},
   "outputs": [
    {
     "name": "stdout",
     "output_type": "stream",
     "text": [
      "0  ->  1 -> 2\n",
      "1  ->  2\n",
      "2  ->  0 -> 3\n",
      "3  ->  3\n",
      "BFS:\n",
      "2 0 3 1 "
     ]
    }
   ],
   "source": [
    "if __name__ == \"__main__\":\n",
    "    g = Graph()\n",
    "    g.addEdge(0, 1)\n",
    "    g.addEdge(0, 2)\n",
    "    g.addEdge(1, 2)\n",
    "    g.addEdge(2, 0)\n",
    "    g.addEdge(2, 3)\n",
    "    g.addEdge(3, 3)\n",
    "\n",
    "    g.printGraph()\n",
    "    print(\"BFS:\")\n",
    "    g.BFS(2)\n",
    "\n",
    "    # OUTPUT:\n",
    "    # 0  ->  1 -> 2\n",
    "    # 1  ->  2\n",
    "    # 2  ->  0 -> 3\n",
    "    # 3  ->  3\n",
    "    # BFS:\n",
    "    # 2 0 3 1\n"
   ]
  },
  {
   "cell_type": "markdown",
   "metadata": {},
   "source": [
    "### Implementation of NetworkX"
   ]
  },
  {
   "cell_type": "code",
   "execution_count": 7,
   "metadata": {},
   "outputs": [],
   "source": [
    "import networkx as nx\n",
    "import numpy as np\n",
    "import matplotlib.pyplot as plt"
   ]
  },
  {
   "cell_type": "code",
   "execution_count": 8,
   "metadata": {},
   "outputs": [],
   "source": [
    "import warnings\n",
    "import matplotlib.cbook\n",
    "warnings.filterwarnings(\"ignore\",category=matplotlib.cbook.mplDeprecation)"
   ]
  },
  {
   "cell_type": "code",
   "execution_count": null,
   "metadata": {},
   "outputs": [],
   "source": []
  },
  {
   "cell_type": "code",
   "execution_count": null,
   "metadata": {},
   "outputs": [],
   "source": []
  },
  {
   "cell_type": "code",
   "execution_count": null,
   "metadata": {},
   "outputs": [],
   "source": []
  },
  {
   "cell_type": "markdown",
   "metadata": {},
   "source": [
    "--------"
   ]
  },
  {
   "cell_type": "markdown",
   "metadata": {},
   "source": [
    "### References:\n",
    "1. https://github.com/TheAlgorithms/Python\n",
    "2. https://github.com/aimacode"
   ]
  },
  {
   "cell_type": "code",
   "execution_count": null,
   "metadata": {},
   "outputs": [],
   "source": []
  }
 ],
 "metadata": {
  "kernelspec": {
   "display_name": "Python 3",
   "language": "python",
   "name": "python3"
  },
  "language_info": {
   "codemirror_mode": {
    "name": "ipython",
    "version": 3
   },
   "file_extension": ".py",
   "mimetype": "text/x-python",
   "name": "python",
   "nbconvert_exporter": "python",
   "pygments_lexer": "ipython3",
   "version": "3.7.1"
  },
  "widgets": {
   "state": {},
   "version": "1.1.2"
  }
 },
 "nbformat": 4,
 "nbformat_minor": 2
}
