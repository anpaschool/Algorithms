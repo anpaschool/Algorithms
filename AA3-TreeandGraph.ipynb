{
 "cells": [
  {
   "cell_type": "markdown",
   "metadata": {},
   "source": [
    "# Tree and Graph Algorithms"
   ]
  },
  {
   "cell_type": "markdown",
   "metadata": {},
   "source": [
    "### Tree  and graph Search"
   ]
  },
  {
   "cell_type": "markdown",
   "metadata": {},
   "source": [
    "#### Breadth First Search simplified"
   ]
  },
  {
   "cell_type": "code",
   "execution_count": 1,
   "metadata": {},
   "outputs": [],
   "source": [
    "graph = {'A': set(['B', 'C']),\n",
    "         'B': set(['A', 'D', 'E']),\n",
    "         'C': set(['A', 'F']),\n",
    "         'D': set(['B']),\n",
    "         'E': set(['B', 'F']),\n",
    "         'F': set(['C', 'E'])}"
   ]
  },
  {
   "cell_type": "code",
   "execution_count": 2,
   "metadata": {},
   "outputs": [
    {
     "data": {
      "text/plain": [
       "{'A': {'B', 'C'},\n",
       " 'B': {'A', 'D', 'E'},\n",
       " 'C': {'A', 'F'},\n",
       " 'D': {'B'},\n",
       " 'E': {'B', 'F'},\n",
       " 'F': {'C', 'E'}}"
      ]
     },
     "execution_count": 2,
     "metadata": {},
     "output_type": "execute_result"
    }
   ],
   "source": [
    "graph"
   ]
  },
  {
   "cell_type": "markdown",
   "metadata": {},
   "source": [
    "![alt](http://eddmann.com/uploads/depth-first-search-and-breadth-first-search-in-python/graph.png)"
   ]
  },
  {
   "cell_type": "code",
   "execution_count": 3,
   "metadata": {},
   "outputs": [],
   "source": [
    "def bfs(graph, start):\n",
    "    visited, queue = set(), [start]\n",
    "    while queue:\n",
    "        vertex = queue.pop(0)\n",
    "        if vertex not in visited:\n",
    "            visited.add(vertex)\n",
    "            queue.extend(graph[vertex] - visited)\n",
    "    return visited"
   ]
  },
  {
   "cell_type": "code",
   "execution_count": 4,
   "metadata": {},
   "outputs": [
    {
     "data": {
      "text/plain": [
       "{'A', 'B', 'C', 'D', 'E', 'F'}"
      ]
     },
     "execution_count": 4,
     "metadata": {},
     "output_type": "execute_result"
    }
   ],
   "source": [
    "bfs(graph, 'A')"
   ]
  },
  {
   "cell_type": "markdown",
   "metadata": {},
   "source": [
    "#### Depth First Search simplified"
   ]
  },
  {
   "cell_type": "code",
   "execution_count": 8,
   "metadata": {},
   "outputs": [],
   "source": [
    "def dfs(graph, start):\n",
    "    visited, stack = set(), [start]\n",
    "    while stack:\n",
    "        vertex = stack.pop()\n",
    "        if vertex not in visited:\n",
    "            visited.add(vertex)\n",
    "            stack.extend(graph[vertex] - visited)\n",
    "    return visited\n"
   ]
  },
  {
   "cell_type": "code",
   "execution_count": 6,
   "metadata": {},
   "outputs": [
    {
     "data": {
      "text/plain": [
       "{'A', 'B', 'C', 'D', 'E', 'F'}"
      ]
     },
     "execution_count": 6,
     "metadata": {},
     "output_type": "execute_result"
    }
   ],
   "source": [
    "dfs(graph, 'A')"
   ]
  },
  {
   "cell_type": "code",
   "execution_count": 7,
   "metadata": {},
   "outputs": [
    {
     "data": {
      "text/plain": [
       "{'A', 'B', 'C', 'D', 'E', 'F'}"
      ]
     },
     "execution_count": 7,
     "metadata": {},
     "output_type": "execute_result"
    }
   ],
   "source": [
    "dfs(graph, 'C')"
   ]
  },
  {
   "cell_type": "markdown",
   "metadata": {},
   "source": [
    "---------"
   ]
  },
  {
   "cell_type": "markdown",
   "metadata": {},
   "source": [
    "#### Minimal Spanning Tree (Prism's Method)"
   ]
  },
  {
   "cell_type": "code",
   "execution_count": 49,
   "metadata": {},
   "outputs": [],
   "source": [
    "import sys \n",
    "\n",
    "class Graph(): \n",
    "\n",
    "    def __init__(self, vertices): \n",
    "            self.V = vertices \n",
    "            self.graph = [[0 for column in range(vertices)] \n",
    "                         for row in range(vertices)] \n",
    "            \n",
    "            \n",
    "    def printMST(self, parent): \n",
    "        print (\"Edge \\tWeight\")\n",
    "        for i in range(1, self.V): \n",
    "            print(parent[i],\"-\",i,\"\\t\",self.graph[i][parent[i]]) \n",
    "            \n",
    "            \n",
    "    def minKey(self, key, mstSet):  \n",
    "            min = sys.maxsize \n",
    "            for v in range(self.V): \n",
    "                if key[v] < min and mstSet[v] == False: \n",
    "                    min = key[v] \n",
    "                    min_index = v \n",
    "            return min_index \n",
    "\n",
    "        \n",
    "    def primMST(self): \n",
    "        key = [sys.maxsize] * self.V \n",
    "        parent = [None] * self.V \n",
    "        key[0] = 0\n",
    "        mstSet = [False] * self.V \n",
    "        parent[0] = -1 \n",
    "        for cout in range(self.V): \n",
    "            u = self.minKey(key, mstSet) \n",
    "            mstSet[u] = True\n",
    "            for v in range(self.V): \n",
    "                if self.graph[u][v] > 0 and \\\n",
    "                    mstSet[v] == False and \\\n",
    "                    key[v] > self.graph[u][v]: \n",
    "                        key[v] = self.graph[u][v] \n",
    "                        parent[v] = u \n",
    "        self.printMST(parent)"
   ]
  },
  {
   "cell_type": "code",
   "execution_count": 50,
   "metadata": {},
   "outputs": [],
   "source": [
    "g = Graph(5) \n",
    "g.graph = [ [0, 2, 0, 6, 0], \n",
    "        [2, 0, 3, 8, 5], \n",
    "        [0, 3, 0, 0, 7], \n",
    "        [6, 8, 0, 0, 9], \n",
    "        [0, 5, 7, 9, 0]] "
   ]
  },
  {
   "cell_type": "code",
   "execution_count": 51,
   "metadata": {},
   "outputs": [
    {
     "name": "stdout",
     "output_type": "stream",
     "text": [
      "Edge \tWeight\n",
      "0 - 1 \t 2\n",
      "1 - 2 \t 3\n",
      "0 - 3 \t 6\n",
      "1 - 4 \t 5\n"
     ]
    }
   ],
   "source": [
    "g.primMST(); "
   ]
  },
  {
   "cell_type": "markdown",
   "metadata": {},
   "source": [
    "-------"
   ]
  },
  {
   "cell_type": "markdown",
   "metadata": {},
   "source": [
    "### NetworkX implementation"
   ]
  },
  {
   "cell_type": "code",
   "execution_count": 52,
   "metadata": {},
   "outputs": [],
   "source": [
    "import networkx as nx\n",
    "import numpy as np\n",
    "import matplotlib.pyplot as plt"
   ]
  },
  {
   "cell_type": "code",
   "execution_count": 53,
   "metadata": {},
   "outputs": [],
   "source": [
    "import warnings\n",
    "import matplotlib.cbook\n",
    "warnings.filterwarnings(\"ignore\",category=matplotlib.cbook.mplDeprecation)"
   ]
  },
  {
   "cell_type": "markdown",
   "metadata": {},
   "source": [
    "#### Traversal\n",
    "\n",
    "##### Depth First Search\n",
    "\n",
    "Basic algorithms for depth-first searching the nodes of a graph.\n",
    "\n",
    "- ```dfs_edges(G[, source, depth_limit])``` \tIterate over edges in a depth-first-search (DFS).\n",
    "- ```dfs_tree(G[, source, depth_limit])``` \tReturns oriented tree constructed from a depth-first-search from source.\n",
    "- ```dfs_predecessors(G[, source, depth_limit])``` \tReturns dictionary of predecessors in depth-first-search from source.\n",
    "- ```dfs_successors(G[, source, depth_limit])``` \tReturns dictionary of successors in depth-first-search from source.\n",
    "- ```dfs_preorder_nodes(G[, source, depth_limit])``` \tGenerate nodes in a depth-first-search pre-ordering starting at source.\n",
    "- ```dfs_postorder_nodes(G[, source, depth_limit])``` \tGenerate nodes in a depth-first-search post-ordering starting at source.\n",
    "- ```dfs_labeled_edges(G[, source, depth_limit])``` \tIterate over edges in a depth-first-search (DFS) labeled by type."
   ]
  },
  {
   "cell_type": "code",
   "execution_count": 66,
   "metadata": {},
   "outputs": [
    {
     "data": {
      "image/png": "[encoded data removed]",
      "text/plain": [
       "<Figure size 432x288 with 1 Axes>"
      ]
     },
     "metadata": {},
     "output_type": "display_data"
    }
   ],
   "source": [
    "G = nx.balanced_tree(3,3)\n",
    "nx.draw(G, node_size = 500, node_color = \"lightgreen\", with_labels = True)"
   ]
  },
  {
   "cell_type": "code",
   "execution_count": 67,
   "metadata": {},
   "outputs": [
    {
     "name": "stdout",
     "output_type": "stream",
     "text": [
      "[(0, 1), (1, 4), (4, 13), (4, 14), (4, 15), (1, 5), (5, 16), (5, 17), (5, 18), (1, 6), (6, 19), (6, 20), (6, 21), (0, 2), (2, 7), (7, 22), (7, 23), (7, 24), (2, 8), (8, 25), (8, 26), (8, 27), (2, 9), (9, 28), (9, 29), (9, 30), (0, 3), (3, 10), (10, 31), (10, 32), (10, 33), (3, 11), (11, 34), (11, 35), (11, 36), (3, 12), (12, 37), (12, 38), (12, 39)]\n"
     ]
    }
   ],
   "source": [
    "L = list(nx.dfs_edges(G, source=0, depth_limit=5))\n",
    "print(L)"
   ]
  },
  {
   "cell_type": "code",
   "execution_count": 69,
   "metadata": {},
   "outputs": [
    {
     "data": {
      "text/plain": [
       "{1: 0,\n",
       " 4: 1,\n",
       " 13: 4,\n",
       " 14: 4,\n",
       " 15: 4,\n",
       " 5: 1,\n",
       " 16: 5,\n",
       " 17: 5,\n",
       " 18: 5,\n",
       " 6: 1,\n",
       " 19: 6,\n",
       " 20: 6,\n",
       " 21: 6,\n",
       " 2: 0,\n",
       " 7: 2,\n",
       " 22: 7,\n",
       " 23: 7,\n",
       " 24: 7,\n",
       " 8: 2,\n",
       " 25: 8,\n",
       " 26: 8,\n",
       " 27: 8,\n",
       " 9: 2,\n",
       " 28: 9,\n",
       " 29: 9,\n",
       " 30: 9,\n",
       " 3: 0,\n",
       " 10: 3,\n",
       " 31: 10,\n",
       " 32: 10,\n",
       " 33: 10,\n",
       " 11: 3,\n",
       " 34: 11,\n",
       " 35: 11,\n",
       " 36: 11,\n",
       " 12: 3,\n",
       " 37: 12,\n",
       " 38: 12,\n",
       " 39: 12}"
      ]
     },
     "execution_count": 69,
     "metadata": {},
     "output_type": "execute_result"
    }
   ],
   "source": [
    "nx.dfs_predecessors(G, source=0)"
   ]
  },
  {
   "cell_type": "code",
   "execution_count": 70,
   "metadata": {},
   "outputs": [
    {
     "data": {
      "text/plain": [
       "{0: [1, 2, 3],\n",
       " 1: [4, 5, 6],\n",
       " 4: [13, 14, 15],\n",
       " 5: [16, 17, 18],\n",
       " 6: [19, 20, 21],\n",
       " 2: [7, 8, 9],\n",
       " 7: [22, 23, 24],\n",
       " 8: [25, 26, 27],\n",
       " 9: [28, 29, 30],\n",
       " 3: [10, 11, 12],\n",
       " 10: [31, 32, 33],\n",
       " 11: [34, 35, 36],\n",
       " 12: [37, 38, 39]}"
      ]
     },
     "execution_count": 70,
     "metadata": {},
     "output_type": "execute_result"
    }
   ],
   "source": [
    "nx.dfs_successors(G, source=0)"
   ]
  },
  {
   "cell_type": "code",
   "execution_count": 71,
   "metadata": {},
   "outputs": [
    {
     "data": {
      "text/plain": [
       "[0,\n",
       " 1,\n",
       " 4,\n",
       " 13,\n",
       " 14,\n",
       " 15,\n",
       " 5,\n",
       " 16,\n",
       " 17,\n",
       " 18,\n",
       " 6,\n",
       " 19,\n",
       " 20,\n",
       " 21,\n",
       " 2,\n",
       " 7,\n",
       " 22,\n",
       " 23,\n",
       " 24,\n",
       " 8,\n",
       " 25,\n",
       " 26,\n",
       " 27,\n",
       " 9,\n",
       " 28,\n",
       " 29,\n",
       " 30,\n",
       " 3,\n",
       " 10,\n",
       " 31,\n",
       " 32,\n",
       " 33,\n",
       " 11,\n",
       " 34,\n",
       " 35,\n",
       " 36,\n",
       " 12,\n",
       " 37,\n",
       " 38,\n",
       " 39]"
      ]
     },
     "execution_count": 71,
     "metadata": {},
     "output_type": "execute_result"
    }
   ],
   "source": [
    "list(nx.dfs_preorder_nodes(G))"
   ]
  },
  {
   "cell_type": "code",
   "execution_count": 72,
   "metadata": {},
   "outputs": [
    {
     "data": {
      "text/plain": [
       "[13,\n",
       " 14,\n",
       " 15,\n",
       " 4,\n",
       " 16,\n",
       " 17,\n",
       " 18,\n",
       " 5,\n",
       " 19,\n",
       " 20,\n",
       " 21,\n",
       " 6,\n",
       " 1,\n",
       " 22,\n",
       " 23,\n",
       " 24,\n",
       " 7,\n",
       " 25,\n",
       " 26,\n",
       " 27,\n",
       " 8,\n",
       " 28,\n",
       " 29,\n",
       " 30,\n",
       " 9,\n",
       " 2,\n",
       " 31,\n",
       " 32,\n",
       " 33,\n",
       " 10,\n",
       " 34,\n",
       " 35,\n",
       " 36,\n",
       " 11,\n",
       " 37,\n",
       " 38,\n",
       " 39,\n",
       " 12,\n",
       " 3,\n",
       " 0]"
      ]
     },
     "execution_count": 72,
     "metadata": {},
     "output_type": "execute_result"
    }
   ],
   "source": [
    "list(nx.dfs_postorder_nodes(G))"
   ]
  },
  {
   "cell_type": "code",
   "execution_count": 73,
   "metadata": {},
   "outputs": [
    {
     "data": {
      "text/plain": [
       "[(0, 0, 'forward'),\n",
       " (0, 1, 'forward'),\n",
       " (1, 0, 'nontree'),\n",
       " (1, 4, 'forward'),\n",
       " (4, 1, 'nontree'),\n",
       " (4, 13, 'forward'),\n",
       " (13, 4, 'nontree'),\n",
       " (4, 13, 'reverse'),\n",
       " (4, 14, 'forward'),\n",
       " (14, 4, 'nontree'),\n",
       " (4, 14, 'reverse'),\n",
       " (4, 15, 'forward'),\n",
       " (15, 4, 'nontree'),\n",
       " (4, 15, 'reverse'),\n",
       " (1, 4, 'reverse'),\n",
       " (1, 5, 'forward'),\n",
       " (5, 1, 'nontree'),\n",
       " (5, 16, 'forward'),\n",
       " (16, 5, 'nontree'),\n",
       " (5, 16, 'reverse'),\n",
       " (5, 17, 'forward'),\n",
       " (17, 5, 'nontree'),\n",
       " (5, 17, 'reverse'),\n",
       " (5, 18, 'forward'),\n",
       " (18, 5, 'nontree'),\n",
       " (5, 18, 'reverse'),\n",
       " (1, 5, 'reverse'),\n",
       " (1, 6, 'forward'),\n",
       " (6, 1, 'nontree'),\n",
       " (6, 19, 'forward'),\n",
       " (19, 6, 'nontree'),\n",
       " (6, 19, 'reverse'),\n",
       " (6, 20, 'forward'),\n",
       " (20, 6, 'nontree'),\n",
       " (6, 20, 'reverse'),\n",
       " (6, 21, 'forward'),\n",
       " (21, 6, 'nontree'),\n",
       " (6, 21, 'reverse'),\n",
       " (1, 6, 'reverse'),\n",
       " (0, 1, 'reverse'),\n",
       " (0, 2, 'forward'),\n",
       " (2, 0, 'nontree'),\n",
       " (2, 7, 'forward'),\n",
       " (7, 2, 'nontree'),\n",
       " (7, 22, 'forward'),\n",
       " (22, 7, 'nontree'),\n",
       " (7, 22, 'reverse'),\n",
       " (7, 23, 'forward'),\n",
       " (23, 7, 'nontree'),\n",
       " (7, 23, 'reverse'),\n",
       " (7, 24, 'forward'),\n",
       " (24, 7, 'nontree'),\n",
       " (7, 24, 'reverse'),\n",
       " (2, 7, 'reverse'),\n",
       " (2, 8, 'forward'),\n",
       " (8, 2, 'nontree'),\n",
       " (8, 25, 'forward'),\n",
       " (25, 8, 'nontree'),\n",
       " (8, 25, 'reverse'),\n",
       " (8, 26, 'forward'),\n",
       " (26, 8, 'nontree'),\n",
       " (8, 26, 'reverse'),\n",
       " (8, 27, 'forward'),\n",
       " (27, 8, 'nontree'),\n",
       " (8, 27, 'reverse'),\n",
       " (2, 8, 'reverse'),\n",
       " (2, 9, 'forward'),\n",
       " (9, 2, 'nontree'),\n",
       " (9, 28, 'forward'),\n",
       " (28, 9, 'nontree'),\n",
       " (9, 28, 'reverse'),\n",
       " (9, 29, 'forward'),\n",
       " (29, 9, 'nontree'),\n",
       " (9, 29, 'reverse'),\n",
       " (9, 30, 'forward'),\n",
       " (30, 9, 'nontree'),\n",
       " (9, 30, 'reverse'),\n",
       " (2, 9, 'reverse'),\n",
       " (0, 2, 'reverse'),\n",
       " (0, 3, 'forward'),\n",
       " (3, 0, 'nontree'),\n",
       " (3, 10, 'forward'),\n",
       " (10, 3, 'nontree'),\n",
       " (10, 31, 'forward'),\n",
       " (31, 10, 'nontree'),\n",
       " (10, 31, 'reverse'),\n",
       " (10, 32, 'forward'),\n",
       " (32, 10, 'nontree'),\n",
       " (10, 32, 'reverse'),\n",
       " (10, 33, 'forward'),\n",
       " (33, 10, 'nontree'),\n",
       " (10, 33, 'reverse'),\n",
       " (3, 10, 'reverse'),\n",
       " (3, 11, 'forward'),\n",
       " (11, 3, 'nontree'),\n",
       " (11, 34, 'forward'),\n",
       " (34, 11, 'nontree'),\n",
       " (11, 34, 'reverse'),\n",
       " (11, 35, 'forward'),\n",
       " (35, 11, 'nontree'),\n",
       " (11, 35, 'reverse'),\n",
       " (11, 36, 'forward'),\n",
       " (36, 11, 'nontree'),\n",
       " (11, 36, 'reverse'),\n",
       " (3, 11, 'reverse'),\n",
       " (3, 12, 'forward'),\n",
       " (12, 3, 'nontree'),\n",
       " (12, 37, 'forward'),\n",
       " (37, 12, 'nontree'),\n",
       " (12, 37, 'reverse'),\n",
       " (12, 38, 'forward'),\n",
       " (38, 12, 'nontree'),\n",
       " (12, 38, 'reverse'),\n",
       " (12, 39, 'forward'),\n",
       " (39, 12, 'nontree'),\n",
       " (12, 39, 'reverse'),\n",
       " (3, 12, 'reverse'),\n",
       " (0, 3, 'reverse'),\n",
       " (0, 0, 'reverse')]"
      ]
     },
     "execution_count": 73,
     "metadata": {},
     "output_type": "execute_result"
    }
   ],
   "source": [
    "list(nx.dfs_labeled_edges(G))"
   ]
  },
  {
   "cell_type": "markdown",
   "metadata": {},
   "source": [
    "#### 3.2 Breadth-first search\n",
    "\n",
    "Basic algorithms for breadth-first searching the nodes of a graph.\n",
    "\n",
    "- ```bfs_edges(G, source[, reverse, depth_limit])``` \tIterate over edges in a breadth-first-search starting at source.\n",
    "- ```bfs_tree(G, source[, reverse, depth_limit])``` \tReturns an oriented tree constructed from of a breadth-first-search starting at source.\n",
    "- ```bfs_predecessors(G, source[, depth_limit])``` \tReturns an iterator of predecessors in breadth-first-search from source.\n",
    "- ```bfs_successors(G, source[, depth_limit])``` \tReturns an iterator of successors in breadth-first-search from so"
   ]
  },
  {
   "cell_type": "code",
   "execution_count": 74,
   "metadata": {},
   "outputs": [
    {
     "name": "stdout",
     "output_type": "stream",
     "text": [
      "[(0, 1), (0, 2), (0, 3), (1, 4), (1, 5), (1, 6), (2, 7), (2, 8), (2, 9), (3, 10), (3, 11), (3, 12), (4, 13), (4, 14), (4, 15), (5, 16), (5, 17), (5, 18), (6, 19), (6, 20), (6, 21), (7, 22), (7, 23), (7, 24), (8, 25), (8, 26), (8, 27), (9, 28), (9, 29), (9, 30), (10, 31), (10, 32), (10, 33), (11, 34), (11, 35), (11, 36), (12, 37), (12, 38), (12, 39)]\n"
     ]
    }
   ],
   "source": [
    "print(list(nx.bfs_edges(G,0)))"
   ]
  },
  {
   "cell_type": "code",
   "execution_count": 78,
   "metadata": {},
   "outputs": [
    {
     "data": {
      "image/png": "[encoded data removed]",
      "text/plain": [
       "<Figure size 432x288 with 1 Axes>"
      ]
     },
     "metadata": {},
     "output_type": "display_data"
    }
   ],
   "source": [
    "nx.draw(G, node_size = 500, node_color = \"lightgreen\", with_labels = True)"
   ]
  },
  {
   "cell_type": "code",
   "execution_count": 76,
   "metadata": {},
   "outputs": [
    {
     "name": "stdout",
     "output_type": "stream",
     "text": [
      "[(1, 0), (2, 0), (3, 0), (4, 1), (5, 1), (6, 1), (7, 2), (8, 2), (9, 2), (10, 3), (11, 3), (12, 3), (13, 4), (14, 4), (15, 4), (16, 5), (17, 5), (18, 5), (19, 6), (20, 6), (21, 6), (22, 7), (23, 7), (24, 7), (25, 8), (26, 8), (27, 8), (28, 9), (29, 9), (30, 9), (31, 10), (32, 10), (33, 10), (34, 11), (35, 11), (36, 11), (37, 12), (38, 12), (39, 12)]\n"
     ]
    }
   ],
   "source": [
    "print(list(nx.bfs_predecessors(G,0)))"
   ]
  },
  {
   "cell_type": "code",
   "execution_count": 77,
   "metadata": {},
   "outputs": [
    {
     "name": "stdout",
     "output_type": "stream",
     "text": [
      "[(0, [1, 2, 3]), (1, [4, 5, 6]), (2, [7, 8, 9]), (3, [10, 11, 12]), (4, [13, 14, 15]), (5, [16, 17, 18]), (6, [19, 20, 21]), (7, [22, 23, 24]), (8, [25, 26, 27]), (9, [28, 29, 30]), (10, [31, 32, 33]), (11, [34, 35, 36]), (12, [37, 38, 39])]\n"
     ]
    }
   ],
   "source": [
    "print(list(nx.bfs_successors(G,0)))"
   ]
  },
  {
   "cell_type": "markdown",
   "metadata": {},
   "source": [
    "--------"
   ]
  },
  {
   "cell_type": "markdown",
   "metadata": {},
   "source": [
    "### References:\n",
    "1. Latest Algorithm Collection GitHub:https://github.com/TheAlgorithms/Python\n",
    "2. AI search GitHub book:https://github.com/aimacode\n",
    "3. Algorithm Online Book: https://algs4.cs.princeton.edu/home/\n",
    "4. NetworkX documents: https://networkx.github.io/documentation/latest/index.html\n",
    "5. Network Science Online Book: http://networksciencebook.com/"
   ]
  }
 ],
 "metadata": {
  "kernelspec": {
   "display_name": "Python 3",
   "language": "python",
   "name": "python3"
  },
  "language_info": {
   "codemirror_mode": {
    "name": "ipython",
    "version": 3
   },
   "file_extension": ".py",
   "mimetype": "text/x-python",
   "name": "python",
   "nbconvert_exporter": "python",
   "pygments_lexer": "ipython3",
   "version": "3.7.1"
  },
  "widgets": {
   "state": {},
   "version": "1.1.2"
  }
 },
 "nbformat": 4,
 "nbformat_minor": 2
}
